{
 "cells": [
  {
   "cell_type": "markdown",
   "id": "ee9f0fed",
   "metadata": {},
   "source": [
    "# Uniform Generalization Bounds  for Overparametrized  Neural Networks"
   ]
  },
  {
   "cell_type": "markdown",
   "id": "ee66fbb7",
   "metadata": {},
   "source": [
    "This notebook reproduces the experiments performed in section __6__ of the Uniform Generalization Bounds for Overparametrized Neural Networks paper. It allows to train the model to obtain $\\hat{f}_n$, and calculate and plot the error rate versus the size of the training set. The notebook allows to select the dimensions of the hyper-sphere and the exponent of the Relu activation function, and therefore reproduce the results appearing in figure 2 of the paper."
   ]
  },
  {
   "cell_type": "code",
   "execution_count": 1,
   "id": "40a8021c",
   "metadata": {},
   "outputs": [
    {
     "name": "stderr",
     "output_type": "stream",
     "text": [
      "/home/mtkadmin/iclr_2022/opiro_env_2/lib/python3.7/site-packages/jax/experimental/stax.py:30: FutureWarning: jax.experimental.stax is deprecated, import jax.example_libraries.stax instead\n",
      "  FutureWarning)\n"
     ]
    }
   ],
   "source": [
    "import math\n",
    "from utils import gen_rand_data_on_sphere, generate_uniform_set_on_sphere, fit_polynomial, plot_error_rate_function, create_polynomial\n",
    "from utils import plot_fn\n",
    "from utils import add_Gaussian_noise, get_mse, get_sup, get_mae\n",
    "import numpy as np\n",
    "from DenseNN import DenseNN\n",
    "from DenseNN import DataAcquisitionModule\n",
    "import jax.numpy as jnp\n",
    "import neural_tangents as nt\n",
    "\n",
    "import matplotlib.pyplot as plt\n"
   ]
  },
  {
   "cell_type": "markdown",
   "id": "02fed9bb",
   "metadata": {},
   "source": [
    "## Visualization of Ground Truth Functions in 2D"
   ]
  },
  {
   "cell_type": "markdown",
   "id": "a062312e",
   "metadata": {},
   "source": [
    "This section gives samples of ground truth function generations. We randomly generate a specified number n of points x_i, i=1,...,n on the unit circle; generate their labels y_i = f(x_i) according to the normal distribution with covariance matrix given by the NTK at points x_i and then generate the posterior GP mean function conditioned on the specified points. We plot this posterior mean function (which is in the RKHS associated with the NTK) and its confidence intervals.   "
   ]
  },
  {
   "cell_type": "code",
   "execution_count": 2,
   "id": "c45a9b01",
   "metadata": {},
   "outputs": [],
   "source": [
    "NO_CONDITION_POINTS_FOR_GROUND_TRUTH = 5 #Number of given values f(x_i)=y_i \n",
    "                                         #on which we condition in order to generate the ground truth function f"
   ]
  },
  {
   "cell_type": "code",
   "execution_count": 3,
   "id": "b71a3f07",
   "metadata": {
    "scrolled": true
   },
   "outputs": [
    {
     "name": "stderr",
     "output_type": "stream",
     "text": [
      "WARNING:absl:No GPU/TPU found, falling back to CPU. (Set TF_CPP_MIN_LOG_LEVEL=0 and rerun for more info.)\n",
      "/home/mtkadmin/iclr_2022/opiro_env_2/lib/python3.7/site-packages/ipykernel_launcher.py:34: UserWarning: The handle <matplotlib.lines.Line2D object at 0x7fd2380b3410> has a label of '_nolegend_' which cannot be automatically added to the legend.\n",
      "/home/mtkadmin/iclr_2022/opiro_env_2/lib/python3.7/site-packages/ipykernel_launcher.py:34: UserWarning: The handle <matplotlib.lines.Line2D object at 0x7fd2380b3a10> has a label of '_nolegend_' which cannot be automatically added to the legend.\n"
     ]
    },
    {
     "data": {
      "text/plain": [
       "<matplotlib.legend.Legend at 0x7fd2380b3910>"
      ]
     },
     "execution_count": 3,
     "metadata": {},
     "output_type": "execute_result"
    },
    {
     "data": {
      "image/png": "[encoded data removed]",
      "text/plain": [
       "<Figure size 432x288 with 1 Axes>"
      ]
     },
     "metadata": {
      "needs_background": "light"
     },
     "output_type": "display_data"
    }
   ],
   "source": [
    "nn = DenseNN(1, [3])\n",
    "train, samples = nn.generate_RKHS_samples(num_of_samples = 1, num_of_fixed_points = NO_CONDITION_POINTS_FOR_GROUND_TRUTH, dimension = 2, mode = 'gradient_mse_ensemble')\n",
    "predict_fn =samples[0]\n",
    "train_data = train[0] \n",
    "xs, ys = train_data\n",
    "x_train = np.arctan2(xs[:,0], xs[:,1])\n",
    "\n",
    "test_xs = gen_rand_data_on_sphere(200,2)    \n",
    "ntk_mean, ntk_covariance = predict_fn(x_test=test_xs, get='ntk', \n",
    "                                      compute_cov=True)\n",
    "xs = test_xs\n",
    "test_xs = np.arctan2(xs[:,0], xs[:,1])\n",
    "\n",
    "ntk_mean = np.reshape(ntk_mean, (-1,))\n",
    "ntk_std = np.sqrt(np.diag(ntk_covariance))\n",
    "\n",
    "res = np.stack([test_xs, ntk_mean, ntk_std], axis = 1)\n",
    "res = res[res[:, 0].argsort()]\n",
    "test_xs = res[:,0]\n",
    "ntk_mean = res[:,1]\n",
    "ntk_std = res[:,2]\n",
    "\n",
    "plot_fn((x_train,ys), (test_xs, ntk_mean))\n",
    "\n",
    "plt.plot(test_xs, ntk_mean, 'r-', linewidth=3)\n",
    "plt.fill_between(\n",
    "    np.reshape(test_xs, (-1)), \n",
    "    ntk_mean - 2 * ntk_std, \n",
    "    ntk_mean +  2 * ntk_std, \n",
    "    color='red', alpha=0.2, label=\"confidence intervals\")\n",
    "\n",
    "\n",
    "plt.xlim([-np.pi, np.pi])\n",
    "plt.legend(['condition points','_nolegend_','_nolegend_',\"confidence intervals\"], loc='best')\n"
   ]
  },
  {
   "cell_type": "markdown",
   "id": "91fcd23d",
   "metadata": {},
   "source": [
    "## Experiments of figure 2: Errors vs number of data points used for training."
   ]
  },
  {
   "cell_type": "markdown",
   "id": "7bd58881",
   "metadata": {},
   "source": [
    "This part of the notebook allows to reproduce the experiments outlined in figure 2b of the paper. By varying the parmeters bellow you can see error plots for different dimensions and activaction functions."
   ]
  },
  {
   "cell_type": "markdown",
   "id": "d9ac4198",
   "metadata": {},
   "source": [
    "#### Parameters"
   ]
  },
  {
   "cell_type": "code",
   "execution_count": 4,
   "id": "d7c89220",
   "metadata": {},
   "outputs": [],
   "source": [
    "params = {\n",
    "                'NUM_OF_FIXED_POINTS_FOR_RKHS' : 100,           #No of fixed points for generating ground truth\n",
    "                'DIMENSION' : 2,                                #Embedding dimension of the d-1 sphere (R^d)\n",
    "                'NOISE': 0,                                     #Noise parameter for labels of ground truth\n",
    "                'REG_FOR_TRAINING': 0.1,                        #Kernel regression regularization\n",
    "                'NO_POINTS_SEQ' : [2**k for k in range(1,14)],  #Sequence of numbers of training points to determine error decay\n",
    "                'ACTIVATION': 1                                 #Activarion: Relu^s: s=1,2,3\n",
    "}"
   ]
  },
  {
   "cell_type": "markdown",
   "id": "7d74a759",
   "metadata": {},
   "source": [
    "##### Network creation and Error calculation"
   ]
  },
  {
   "cell_type": "code",
   "execution_count": 5,
   "id": "f7e3b69c",
   "metadata": {},
   "outputs": [],
   "source": [
    "nn = DenseNN(1, [3], activation = DenseNN.activation_relu(params['ACTIVATION']))\n",
    "\n",
    "da = DataAcquisitionModule(nn, num_of_fixed_points_for_RKHS = params['NUM_OF_FIXED_POINTS_FOR_RKHS'], dimension = params['DIMENSION'], \n",
    "                                reg_target_fn = params['REG_FOR_TRAINING'], normalize_target_fn = True, norm_range = True)\n",
    "errors = da.train_with_random_data(no_data_points_list = params['NO_POINTS_SEQ'], \n",
    "                                                noise_level = params['NOISE'], diag_reg_for_training = params['REG_FOR_TRAINING'],\n",
    "                                                num_of_samples_for_error_calculation = 10000)\n",
    "errors = np.squeeze(np.array(errors))\n",
    "errors = get_sup(errors)"
   ]
  },
  {
   "cell_type": "markdown",
   "id": "67d4f6dc",
   "metadata": {},
   "source": [
    "#### Plot"
   ]
  },
  {
   "cell_type": "code",
   "execution_count": 6,
   "id": "da2c8682",
   "metadata": {},
   "outputs": [
    {
     "name": "stderr",
     "output_type": "stream",
     "text": [
      "/home/mtkadmin/iclr_2022/utils.py:69: UserWarning: color is redundantly defined by the 'color' keyword argument and the fmt string \"ro\" (-> color='r'). The keyword argument will take precedence.\n",
      "  plt_obj.plot(x, y, 'ro', markersize=5, label='train', color = color)\n",
      "/home/mtkadmin/iclr_2022/opiro_env_2/lib/python3.7/site-packages/ipykernel_launcher.py:7: UserWarning: FixedFormatter should only be used together with FixedLocator\n",
      "  import sys\n"
     ]
    },
    {
     "data": {
      "text/plain": [
       "Text(0.5, 0.9, 'Slope: -0.5177129018638746 \\n Intercept: -0.05866902149640607')"
      ]
     },
     "execution_count": 6,
     "metadata": {},
     "output_type": "execute_result"
    },
    {
     "data": {
      "image/png": "[encoded data removed]",
      "text/plain": [
       "<Figure size 432x288 with 1 Axes>"
      ]
     },
     "metadata": {
      "needs_background": "light"
     },
     "output_type": "display_data"
    }
   ],
   "source": [
    "xs = params['NO_POINTS_SEQ'] \n",
    "xs,ys,slope,intercept, stderr =  fit_polynomial(xs, errors)\n",
    "func = lambda x : slope * x + intercept\n",
    "\n",
    "ax = plt.gca()\n",
    "pl = plot_error_rate_function(func, xs, ys, plt_obj = ax, color = 'orangered')\n",
    "pl.set_xticklabels(np.power(2,range(1,14,3)))\n",
    "\n",
    "max_y = max(ys)\n",
    "min_y = min(ys)\n",
    "ax.set_yticks([np.log(10**(-5)), 0])\n",
    "pl.set_ylim(np.log(10**(-5)),0)\n",
    "label = [r'$10^{-5}$',r'$1$']\n",
    "ax.set_yticklabels(label)\n",
    "ax.set_xlabel('n')\n",
    "ax.set_ylabel('Error rate')\n",
    "pl.text(0.5, 0.9, 'Slope: {} \\n Intercept: {}'.format(slope,intercept), horizontalalignment = 'left', \n",
    "                        verticalalignment='center', transform=ax.transAxes)\n"
   ]
  }
 ],
 "metadata": {
  "kernelspec": {
   "display_name": "Python 3 (ipykernel)",
   "language": "python",
   "name": "python3"
  },
  "language_info": {
   "codemirror_mode": {
    "name": "ipython",
    "version": 3
   },
   "file_extension": ".py",
   "mimetype": "text/x-python",
   "name": "python",
   "nbconvert_exporter": "python",
   "pygments_lexer": "ipython3",
   "version": "3.7.5"
  }
 },
 "nbformat": 4,
 "nbformat_minor": 5
}
